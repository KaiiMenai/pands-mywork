{
 "cells": [
  {
   "cell_type": "markdown",
   "metadata": {},
   "source": [
    "# Quiz\n",
    "Look at this code and answer the questions below (answers at the end of the lab sheet)."
   ]
  },
  {
   "cell_type": "code",
   "execution_count": null,
   "metadata": {},
   "outputs": [],
   "source": [
    "numberOfQuestions = 5\n",
    "averageAge = 23.4\n",
    "debugMode = True\n",
    "name = \"joe\"\n",
    "ages = []\n",
    "months = ('Jan', 'Feb', 'Mar')\n",
    "book = {}\n",
    "stuff = [ 12 , 'Fred', False, {}]\n",
    "someone = dict(firstname = \"joe\")\n",
    "me = {\n",
    "\"firstName\" : \"Andrew\",\n",
    "\"teaching\" : [{\n",
    "\"courseName\" : \"programming\",\n",
    "\"semester\" : 1\n",
    "},{\n",
    "\"courseName\" : \"Data Representation\",\n",
    "\"semester\" : 2\n",
    "}\n",
    "]\n",
    "}"
   ]
  },
  {
   "cell_type": "markdown",
   "metadata": {},
   "source": [
    "## Q1: What are the variable types of the following variables in the code above?\n",
    "    a. numberOfQuestions\n",
    "    b. averageAge\n",
    "    c. debugMode\n",
    "    d. name\n",
    "    e. ages\n",
    "    f. months\n",
    "    g. months[1]\n",
    "    h. book\n",
    "    i. stuff\n",
    "    j. stuff[2]\n",
    "    k. someone\n",
    "    l. someone[\"firstname\"]\n",
    "    m. me\n",
    "    n. me[\"teaching\"]\n",
    "    o. me[\"teaching\"][0][\"semester\"]\n",
    "    p. me[\"teaching\"][0][\"coursename\"]  (p is a trick question look at it carefully)\n"
   ]
  },
  {
   "cell_type": "code",
   "execution_count": 12,
   "metadata": {},
   "outputs": [
    {
     "name": "stdout",
     "output_type": "stream",
     "text": [
      "<class 'int'>\n",
      "<class 'float'>\n",
      "<class 'bool'>\n",
      "<class 'str'>\n",
      "<class 'list'>\n",
      "<class 'tuple'>\n",
      "<class 'str'>\n",
      "<class 'dict'>\n",
      "<class 'list'>\n",
      "<class 'bool'>\n",
      "<class 'dict'>\n",
      "<class 'str'>\n",
      "<class 'dict'>\n",
      "[{'courseName': 'programming', 'semester': 1}, {'courseName': 'Data Representation', 'semester': 2}]\n",
      "1\n"
     ]
    }
   ],
   "source": [
    "print(type(numberOfQuestions))\n",
    "print(type(averageAge))\n",
    "print(type(debugMode))\n",
    "print(type(name))\n",
    "print(type(ages))\n",
    "print(type(months))\n",
    "print(type(months[1]))\n",
    "print(type(book))\n",
    "print(type(stuff))\n",
    "print(type(stuff[2]))\n",
    "print(type(someone))\n",
    "print(type(someone[\"firstname\"]))\n",
    "print(type(me))\n",
    "print(me[\"teaching\"])\n",
    "print(me[\"teaching\"][0][\"semester\"]) \n",
    "# If I were to enter: print(me[\"teaching\"][0][\"coursename\"]) # as from question - this would not work as the key is case sensitive."
   ]
  },
  {
   "cell_type": "markdown",
   "metadata": {},
   "source": [
    "The answer for a to p are as follows:\n",
    "\n",
    "    a. <class 'int'>\n",
    "    b.  <class 'float'>\n",
    "    c. <class 'bool'>\n",
    "    d. <class 'str'>\n",
    "    e. <class 'list'>\n",
    "    f. <class 'tuple'>\n",
    "    g. <class 'str'>\n",
    "    h. <class 'dict'>\n",
    "    i. <class 'list'>\n",
    "    j. <class 'bool'>\n",
    "    k. <class 'dict'>\n",
    "    l. <class 'str'>\n",
    "    m. <class 'dict'>\n",
    "    n. [{'courseName': 'programming', 'semester': 1}, {'courseName': 'Data Representation', 'semester': 2}]\n",
    "    o. 1\n",
    "    p. P is a trick question because if I were to enter: print(me[\"teaching\"][0][\"coursename\"]) as from the question, it would throw an error and would not work as the key is case sensitive."
   ]
  },
  {
   "cell_type": "markdown",
   "metadata": {},
   "source": [
    "## Q2: Create a tuple that stores the months of the year, from that tuple create another tuple with just the summer months (May, June, July), print out the summer months one at a time."
   ]
  },
  {
   "cell_type": "code",
   "execution_count": 14,
   "metadata": {},
   "outputs": [
    {
     "name": "stdout",
     "output_type": "stream",
     "text": [
      "May\n",
      "June\n",
      "July\n"
     ]
    }
   ],
   "source": [
    "months =(\"January\",\n",
    "\"February\",\n",
    "\"March\",\n",
    "\"April\",\n",
    "\"May\",\n",
    "\"June\",\n",
    "\"July\",\n",
    "\"August\",\n",
    "\"September\",\n",
    "\"October\",\n",
    "\"November\",\n",
    "\"December\"\n",
    ")\n",
    "summer = months[4:7]\n",
    "for month in summer:\n",
    "    print(month)"
   ]
  },
  {
   "cell_type": "markdown",
   "metadata": {},
   "source": [
    "Output:\n",
    "\n",
    "    May\n",
    "    June\n",
    "    July"
   ]
  },
  {
   "cell_type": "markdown",
   "metadata": {},
   "source": [
    "## Q3: Create a program that puts 10 random numbers into a queue(list), the program should then output all the values in the queue, then take the numbers from the queue one at a time, print it and the current numbers still in the queue. (the command pop(0) takes the first element out of a list)\n"
   ]
  },
  {
   "cell_type": "code",
   "execution_count": 16,
   "metadata": {},
   "outputs": [
    {
     "name": "stdout",
     "output_type": "stream",
     "text": [
      "queue is [75, 66, 13, 10, 92, 20, 80, 28, 69, 6]\n",
      "current Number is 75 and the queue is [66, 13, 10, 92, 20, 80, 28, 69, 6] \n",
      "current Number is 66 and the queue is [13, 10, 92, 20, 80, 28, 69, 6] \n",
      "current Number is 13 and the queue is [10, 92, 20, 80, 28, 69, 6] \n",
      "current Number is 10 and the queue is [92, 20, 80, 28, 69, 6] \n",
      "current Number is 92 and the queue is [20, 80, 28, 69, 6] \n",
      "current Number is 20 and the queue is [80, 28, 69, 6] \n",
      "current Number is 80 and the queue is [28, 69, 6] \n",
      "current Number is 28 and the queue is [69, 6] \n",
      "current Number is 69 and the queue is [6] \n",
      "current Number is 6 and the queue is [] \n",
      "the queue is now empty\n"
     ]
    }
   ],
   "source": [
    "import random\n",
    "queue = []\n",
    "numberOfNumbers=10\n",
    "rangeTo=100\n",
    "\n",
    "for n in range(0,numberOfNumbers):\n",
    "    queue.append(random.randint(0,rangeTo))\n",
    "\n",
    "print (f\"queue is {queue}\")\n",
    "\n",
    "while len(queue) != 0:\n",
    "    currentNumber = queue.pop(0)\n",
    "    print (f\"current Number is {currentNumber} and the queue is {queue} \")\n",
    "\n",
    "print (\"the queue is now empty\")\n"
   ]
  },
  {
   "cell_type": "markdown",
   "metadata": {},
   "source": [
    " Initially the output didnt have the function 'f' so would not print and would give an error: \n",
    "\n",
    "    while len(queue) != 0:\n",
    "        currentNumber = queue.pop(0)\n",
    "        print (\"current Number is {currentNumber} and the queue is {queue} \")\n",
    "\n",
    "This was rectified when corrected to:\n",
    "\n",
    "    while len(queue) != 0:\n",
    "        currentNumber = queue.pop(0)\n",
    "        print (f\"current Number is {currentNumber} and the queue is {queue} \")\n",
    "    \n",
    "Output:\n",
    "\n",
    "    queue is [75, 66, 13, 10, 92, 20, 80, 28, 69, 6]\n",
    "    current Number is 75 and the queue is [66, 13, 10, 92, 20, 80, 28, 69, 6] \n",
    "    current Number is 66 and the queue is [13, 10, 92, 20, 80, 28, 69, 6] \n",
    "    current Number is 13 and the queue is [10, 92, 20, 80, 28, 69, 6] \n",
    "    current Number is 10 and the queue is [92, 20, 80, 28, 69, 6] \n",
    "    current Number is 92 and the queue is [20, 80, 28, 69, 6] \n",
    "    current Number is 20 and the queue is [80, 28, 69, 6] \n",
    "    current Number is 80 and the queue is [28, 69, 6] \n",
    "    current Number is 28 and the queue is [69, 6] \n",
    "    current Number is 69 and the queue is [6] \n",
    "    current Number is 6 and the queue is [] \n",
    "    the queue is now empty"
   ]
  },
  {
   "cell_type": "markdown",
   "metadata": {},
   "source": [
    "## Q4: 4. Write a program that stores a student name and a list of her courses and grades in a dict, the program should then print out her data. The number of course she has could change."
   ]
  },
  {
   "cell_type": "code",
   "execution_count": 17,
   "metadata": {},
   "outputs": [
    {
     "name": "stdout",
     "output_type": "stream",
     "text": [
      "Student: Mary\n",
      "\t Programming \t: 45\n",
      "\t History \t: 99\n"
     ]
    }
   ],
   "source": [
    "student = {\n",
    "    \"name\":\"Mary\",\n",
    "    \"modules\": [\n",
    "        {\n",
    "        \"courseName\":\"Programming\",\n",
    "        \"grade\": 45\n",
    "        },\n",
    "        {\n",
    "        \"courseName\":\"History\",\n",
    "        \"grade\":99\n",
    "        }\n",
    "    ]\n",
    "}\n",
    "\n",
    "print (\"Student: {}\".format(student[\"name\"]))\n",
    "\n",
    "for module in student[\"modules\"]:\n",
    "    print(\"\\t {} \\t: {}\".format(module[\"courseName\"], module[\"grade\"]))"
   ]
  },
  {
   "cell_type": "markdown",
   "metadata": {},
   "source": [
    "Output:\n",
    "\n",
    "    Student: Mary\n",
    "\t Programming \t: 45\n",
    "\t History \t: 99"
   ]
  },
  {
   "cell_type": "markdown",
   "metadata": {},
   "source": [
    "## Q5: 5. Write a program that will read in the data for the data structure above (Q4), i.e. reads in a student’s name, then keeps reading in their modules and grades (until the user enters a blank module name), You can break this up into two parts:\n",
    "    a. Just read in the module names until the user enters blank,\n",
    "    b. Then read in the grade as well\n"
   ]
  },
  {
   "cell_type": "code",
   "execution_count": 26,
   "metadata": {},
   "outputs": [
    {
     "name": "stdout",
     "output_type": "stream",
     "text": [
      "\n",
      "Student: Jane\n",
      "\tMaths \t: 45\n"
     ]
    }
   ],
   "source": [
    "# Read in the student's name.\n",
    "identity = input(\"Please enter the student's name: \")\n",
    "\n",
    "# Create an empty list for the modules.\n",
    "student = {\n",
    "    \"name\": identity,\n",
    "    \"modules\": []\n",
    "}\n",
    "\n",
    "# Continue to read in course names and grades until the user enters a blank course name.\n",
    "while True:\n",
    "    courseid = input(\"Please enter the course name (or leave empty and press Enter to finish): \")\n",
    "    if not courseid.strip():  # Break if the course name is empty or whitespace\n",
    "        break\n",
    "    \n",
    "    # Read the grade for the entered course\n",
    "    mark = input(f\"Please enter the student's grade for {courseid}: \")\n",
    "    \n",
    "    # Create a dictionary containing the course name and grade and add it to the list of modules\n",
    "    student[\"modules\"].append({\n",
    "        \"course\": courseid,\n",
    "        \"mark\": mark\n",
    "    })\n",
    "\n",
    "# Print out the student details\n",
    "print(\"\\nStudent: {}\".format(student[\"name\"]))\n",
    "\n",
    "for module in student[\"modules\"]:\n",
    "    print(\"\\t{} \\t: {}\".format(module[\"course\"], module[\"mark\"]))"
   ]
  },
  {
   "cell_type": "markdown",
   "metadata": {},
   "source": [
    "Output:\n",
    "    \n",
    "    Student: Jane\n",
    "\t    Maths \t: 45"
   ]
  },
  {
   "cell_type": "markdown",
   "metadata": {},
   "source": [
    "## Q6: 6. If you want to go a step further, read in multiple students (until the student_name is blank)."
   ]
  },
  {
   "cell_type": "code",
   "execution_count": 27,
   "metadata": {},
   "outputs": [
    {
     "name": "stdout",
     "output_type": "stream",
     "text": [
      "\n",
      "All Students:\n",
      "Student: Jo\n",
      "\tMaths \t: 56\n",
      "\tBiology \t: 60\n"
     ]
    }
   ],
   "source": [
    "# Initialize an empty list to store all students' details\n",
    "students = []\n",
    "\n",
    "# Continue to read in student details until a blank student ID is entered\n",
    "while True:\n",
    "    # Read the student's name (or ID)\n",
    "    identity = input(\"Please enter the student's name (or leave empty and press Enter to finish): \")\n",
    "    if not identity.strip():  # Break if the student name/ID is empty or whitespace\n",
    "        break\n",
    "\n",
    "    # Create a dictionary for the current student\n",
    "    student = {\n",
    "        \"name\": identity,\n",
    "        \"modules\": []\n",
    "    }\n",
    "\n",
    "    # Continue to read in course names and grades for this student until a blank course name is entered\n",
    "    while True:\n",
    "        courseid = input(\"Please enter the course name (or leave empty and press Enter to finish): \")\n",
    "        if not courseid.strip():  # Break if the course name is empty or whitespace\n",
    "            break\n",
    "\n",
    "        # Read the grade for the entered course\n",
    "        mark = input(f\"Please enter the student's grade for {courseid}: \")\n",
    "\n",
    "        # Add the module details to the student's modules list\n",
    "        student[\"modules\"].append({\n",
    "            \"course\": courseid,\n",
    "            \"mark\": mark\n",
    "        })\n",
    "\n",
    "    # Add the completed student dictionary to the list of students\n",
    "    students.append(student)\n",
    "\n",
    "# Print out all students' details\n",
    "print(\"\\nAll Students:\")\n",
    "for student in students:\n",
    "    print(\"Student: {}\".format(student[\"name\"]))\n",
    "    for module in student[\"modules\"]:\n",
    "        print(\"\\t{} \\t: {}\".format(module[\"course\"], module[\"mark\"]))"
   ]
  },
  {
   "cell_type": "markdown",
   "metadata": {},
   "source": [
    "# END"
   ]
  }
 ],
 "metadata": {
  "kernelspec": {
   "display_name": "base",
   "language": "python",
   "name": "python3"
  },
  "language_info": {
   "codemirror_mode": {
    "name": "ipython",
    "version": 3
   },
   "file_extension": ".py",
   "mimetype": "text/x-python",
   "name": "python",
   "nbconvert_exporter": "python",
   "pygments_lexer": "ipython3",
   "version": "3.12.7"
  }
 },
 "nbformat": 4,
 "nbformat_minor": 2
}
