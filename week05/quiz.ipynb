{
 "cells": [
  {
   "cell_type": "markdown",
   "metadata": {},
   "source": [
    "# Quiz\n",
    "Look at this code and answer the questions below (answers at the end of the lab sheet)."
   ]
  },
  {
   "cell_type": "code",
   "execution_count": null,
   "metadata": {},
   "outputs": [],
   "source": [
    "numberOfQuestions = 5\n",
    "averageAge = 23.4\n",
    "debugMode = True\n",
    "name = \"joe\"\n",
    "ages = []\n",
    "months = ('Jan', 'Feb', 'Mar')\n",
    "book = {}\n",
    "stuff = [ 12 , 'Fred', False, {}]\n",
    "someone = dict(firstname = \"joe\")\n",
    "me = {\n",
    "\"firstName\" : \"Andrew\",\n",
    "\"teaching\" : [{\n",
    "\"courseName\" : \"programming\",\n",
    "\"semester\" : 1\n",
    "},{\n",
    "\"courseName\" : \"Data Representation\",\n",
    "\"semester\" : 2\n",
    "}\n",
    "]\n",
    "}"
   ]
  },
  {
   "cell_type": "markdown",
   "metadata": {},
   "source": [
    "## Q1: What are the variable types of the following variables in the code above?\n",
    "    a. numberOfQuestions\n",
    "    b. averageAge\n",
    "    c. debugMode\n",
    "    d. name\n",
    "    e. ages\n",
    "    f. months\n",
    "    g. months[1]\n",
    "    h. book\n",
    "    i. stuff\n",
    "    j. stuff[2]\n",
    "    k. someone\n",
    "    l. someone[\"firstname\"]\n",
    "    m. me\n",
    "    n. me[\"teaching\"]\n",
    "    o. me[\"teaching\"][0][\"semester\"]\n",
    "    p. me[\"teaching\"][0][\"coursename\"]  (p is a trick question look at it carefully)\n"
   ]
  },
  {
   "cell_type": "code",
   "execution_count": 12,
   "metadata": {},
   "outputs": [
    {
     "name": "stdout",
     "output_type": "stream",
     "text": [
      "<class 'int'>\n",
      "<class 'float'>\n",
      "<class 'bool'>\n",
      "<class 'str'>\n",
      "<class 'list'>\n",
      "<class 'tuple'>\n",
      "<class 'str'>\n",
      "<class 'dict'>\n",
      "<class 'list'>\n",
      "<class 'bool'>\n",
      "<class 'dict'>\n",
      "<class 'str'>\n",
      "<class 'dict'>\n",
      "[{'courseName': 'programming', 'semester': 1}, {'courseName': 'Data Representation', 'semester': 2}]\n",
      "1\n"
     ]
    }
   ],
   "source": [
    "print(type(numberOfQuestions))\n",
    "print(type(averageAge))\n",
    "print(type(debugMode))\n",
    "print(type(name))\n",
    "print(type(ages))\n",
    "print(type(months))\n",
    "print(type(months[1]))\n",
    "print(type(book))\n",
    "print(type(stuff))\n",
    "print(type(stuff[2]))\n",
    "print(type(someone))\n",
    "print(type(someone[\"firstname\"]))\n",
    "print(type(me))\n",
    "print(me[\"teaching\"])\n",
    "print(me[\"teaching\"][0][\"semester\"]) \n",
    "# If I were to enter: print(me[\"teaching\"][0][\"coursename\"]) # as from question - this would not work as the key is case sensitive."
   ]
  },
  {
   "cell_type": "markdown",
   "metadata": {},
   "source": [
    "The answer for a to p are as follows:\n",
    "\n",
    "    a. <class 'int'>\n",
    "    b.  <class 'float'>\n",
    "    c. <class 'bool'>\n",
    "    d. <class 'str'>\n",
    "    e. <class 'list'>\n",
    "    f. <class 'tuple'>\n",
    "    g. <class 'str'>\n",
    "    h. <class 'dict'>\n",
    "    i. <class 'list'>\n",
    "    j. <class 'bool'>\n",
    "    k. <class 'dict'>\n",
    "    l. <class 'str'>\n",
    "    m. <class 'dict'>\n",
    "    n. [{'courseName': 'programming', 'semester': 1}, {'courseName': 'Data Representation', 'semester': 2}]\n",
    "    o. 1\n",
    "    p. P is a trick question because if I were to enter: print(me[\"teaching\"][0][\"coursename\"]) as from the question, it would throw an error and would not work as the key is case sensitive."
   ]
  },
  {
   "cell_type": "markdown",
   "metadata": {},
   "source": [
    "## Q2: Create a tuple that stores the months of the year, from that tuple create another tuple with just the summer months (May, June, July), print out the summer months one at a time."
   ]
  }
 ],
 "metadata": {
  "kernelspec": {
   "display_name": "base",
   "language": "python",
   "name": "python3"
  },
  "language_info": {
   "codemirror_mode": {
    "name": "ipython",
    "version": 3
   },
   "file_extension": ".py",
   "mimetype": "text/x-python",
   "name": "python",
   "nbconvert_exporter": "python",
   "pygments_lexer": "ipython3",
   "version": "3.12.7"
  }
 },
 "nbformat": 4,
 "nbformat_minor": 2
}
